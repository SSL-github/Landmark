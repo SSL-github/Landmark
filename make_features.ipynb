{
 "cells": [
  {
   "cell_type": "code",
   "execution_count": 1,
   "metadata": {},
   "outputs": [
    {
     "data": {
      "text/plain": [
       "'2.3.0'"
      ]
     },
     "execution_count": 1,
     "metadata": {},
     "output_type": "execute_result"
    }
   ],
   "source": [
    "import tensorflow as tf\n",
    "tf.__version__"
   ]
  },
  {
   "cell_type": "code",
   "execution_count": 2,
   "metadata": {},
   "outputs": [],
   "source": [
    "import os\n",
    "os.environ[\"CUDA_VISIBLE_DEVICES\"] = '1'"
   ]
  },
  {
   "cell_type": "code",
   "execution_count": 3,
   "metadata": {},
   "outputs": [
    {
     "name": "stdout",
     "output_type": "stream",
     "text": [
      "1 Physical GPUs, 1 Logical GPUs\n"
     ]
    }
   ],
   "source": [
    "gpus = tf.config.experimental.list_physical_devices('GPU')\n",
    "if gpus:\n",
    "  try:\n",
    "    # Currently, memory growth needs to be the same across GPUs\n",
    "    for gpu in gpus:\n",
    "      tf.config.experimental.set_memory_growth(gpu, True)\n",
    "    logical_gpus = tf.config.experimental.list_logical_devices('GPU')\n",
    "    print(len(gpus), \"Physical GPUs,\", len(logical_gpus), \"Logical GPUs\")\n",
    "  except RuntimeError as e:\n",
    "    # Memory growth must be set before GPUs have been initialized\n",
    "    print(e)"
   ]
  },
  {
   "cell_type": "markdown",
   "metadata": {},
   "source": [
    "# extract feature "
   ]
  },
  {
   "cell_type": "markdown",
   "metadata": {},
   "source": [
    "#pbtxt path : /home/smart02/LM/research/delf/delf/python/examples - change model path"
   ]
  },
  {
   "cell_type": "code",
   "execution_count": 2,
   "metadata": {},
   "outputs": [
    {
     "name": "stdout",
     "output_type": "stream",
     "text": [
      "2021-01-28 16:14:20.472930: I tensorflow/stream_executor/platform/default/dso_loader.cc:48] Successfully opened dynamic library libcudart.so.10.1\n",
      "Reading list of images...\n",
      "done! Found 103701 images\n",
      "2021-01-28 16:14:23.627473: I tensorflow/stream_executor/platform/default/dso_loader.cc:48] Successfully opened dynamic library libcuda.so.1\n",
      "2021-01-28 16:14:23.643025: I tensorflow/core/common_runtime/gpu/gpu_device.cc:1716] Found device 0 with properties: \n",
      "pciBusID: 0000:44:00.0 name: Quadro RTX 5000 computeCapability: 7.5\n",
      "coreClock: 1.815GHz coreCount: 48 deviceMemorySize: 15.72GiB deviceMemoryBandwidth: 417.29GiB/s\n",
      "2021-01-28 16:14:23.644582: I tensorflow/core/common_runtime/gpu/gpu_device.cc:1716] Found device 1 with properties: \n",
      "pciBusID: 0000:61:00.0 name: Quadro RTX 5000 computeCapability: 7.5\n",
      "coreClock: 1.815GHz coreCount: 48 deviceMemorySize: 15.72GiB deviceMemoryBandwidth: 417.29GiB/s\n",
      "2021-01-28 16:14:23.644617: I tensorflow/stream_executor/platform/default/dso_loader.cc:48] Successfully opened dynamic library libcudart.so.10.1\n",
      "2021-01-28 16:14:23.646246: I tensorflow/stream_executor/platform/default/dso_loader.cc:48] Successfully opened dynamic library libcublas.so.10\n",
      "2021-01-28 16:14:23.647999: I tensorflow/stream_executor/platform/default/dso_loader.cc:48] Successfully opened dynamic library libcufft.so.10\n",
      "2021-01-28 16:14:23.648312: I tensorflow/stream_executor/platform/default/dso_loader.cc:48] Successfully opened dynamic library libcurand.so.10\n",
      "2021-01-28 16:14:23.649913: I tensorflow/stream_executor/platform/default/dso_loader.cc:48] Successfully opened dynamic library libcusolver.so.10\n",
      "2021-01-28 16:14:23.650794: I tensorflow/stream_executor/platform/default/dso_loader.cc:48] Successfully opened dynamic library libcusparse.so.10\n",
      "2021-01-28 16:14:23.654160: I tensorflow/stream_executor/platform/default/dso_loader.cc:48] Successfully opened dynamic library libcudnn.so.7\n",
      "2021-01-28 16:14:23.660485: I tensorflow/core/common_runtime/gpu/gpu_device.cc:1858] Adding visible gpu devices: 0, 1\n",
      "2021-01-28 16:14:23.661000: I tensorflow/core/platform/cpu_feature_guard.cc:142] This TensorFlow binary is optimized with oneAPI Deep Neural Network Library (oneDNN)to use the following CPU instructions in performance-critical operations:  AVX2 FMA\n",
      "To enable them in other operations, rebuild TensorFlow with the appropriate compiler flags.\n",
      "2021-01-28 16:14:23.698116: I tensorflow/core/platform/profile_utils/cpu_utils.cc:104] CPU Frequency: 2100080000 Hz\n",
      "2021-01-28 16:14:23.701558: I tensorflow/compiler/xla/service/service.cc:168] XLA service 0x560705a88490 initialized for platform Host (this does not guarantee that XLA will be used). Devices:\n",
      "2021-01-28 16:14:23.701623: I tensorflow/compiler/xla/service/service.cc:176]   StreamExecutor device (0): Host, Default Version\n",
      "2021-01-28 16:14:23.953054: I tensorflow/compiler/xla/service/service.cc:168] XLA service 0x560705af4a20 initialized for platform CUDA (this does not guarantee that XLA will be used). Devices:\n",
      "2021-01-28 16:14:23.953110: I tensorflow/compiler/xla/service/service.cc:176]   StreamExecutor device (0): Quadro RTX 5000, Compute Capability 7.5\n",
      "2021-01-28 16:14:23.953127: I tensorflow/compiler/xla/service/service.cc:176]   StreamExecutor device (1): Quadro RTX 5000, Compute Capability 7.5\n",
      "2021-01-28 16:14:23.956645: I tensorflow/core/common_runtime/gpu/gpu_device.cc:1716] Found device 0 with properties: \n",
      "pciBusID: 0000:44:00.0 name: Quadro RTX 5000 computeCapability: 7.5\n",
      "coreClock: 1.815GHz coreCount: 48 deviceMemorySize: 15.72GiB deviceMemoryBandwidth: 417.29GiB/s\n",
      "2021-01-28 16:14:23.959319: I tensorflow/core/common_runtime/gpu/gpu_device.cc:1716] Found device 1 with properties: \n",
      "pciBusID: 0000:61:00.0 name: Quadro RTX 5000 computeCapability: 7.5\n",
      "coreClock: 1.815GHz coreCount: 48 deviceMemorySize: 15.72GiB deviceMemoryBandwidth: 417.29GiB/s\n",
      "2021-01-28 16:14:23.959383: I tensorflow/stream_executor/platform/default/dso_loader.cc:48] Successfully opened dynamic library libcudart.so.10.1\n",
      "2021-01-28 16:14:23.959435: I tensorflow/stream_executor/platform/default/dso_loader.cc:48] Successfully opened dynamic library libcublas.so.10\n",
      "2021-01-28 16:14:23.959471: I tensorflow/stream_executor/platform/default/dso_loader.cc:48] Successfully opened dynamic library libcufft.so.10\n",
      "2021-01-28 16:14:23.959506: I tensorflow/stream_executor/platform/default/dso_loader.cc:48] Successfully opened dynamic library libcurand.so.10\n",
      "2021-01-28 16:14:23.959540: I tensorflow/stream_executor/platform/default/dso_loader.cc:48] Successfully opened dynamic library libcusolver.so.10\n",
      "2021-01-28 16:14:23.959573: I tensorflow/stream_executor/platform/default/dso_loader.cc:48] Successfully opened dynamic library libcusparse.so.10\n",
      "2021-01-28 16:14:23.959607: I tensorflow/stream_executor/platform/default/dso_loader.cc:48] Successfully opened dynamic library libcudnn.so.7\n",
      "2021-01-28 16:14:23.968288: I tensorflow/core/common_runtime/gpu/gpu_device.cc:1858] Adding visible gpu devices: 0, 1\n",
      "2021-01-28 16:14:23.968368: I tensorflow/stream_executor/platform/default/dso_loader.cc:48] Successfully opened dynamic library libcudart.so.10.1\n",
      "2021-01-28 16:14:25.266027: I tensorflow/core/common_runtime/gpu/gpu_device.cc:1257] Device interconnect StreamExecutor with strength 1 edge matrix:\n",
      "2021-01-28 16:14:25.266088: I tensorflow/core/common_runtime/gpu/gpu_device.cc:1263]      0 1 \n",
      "2021-01-28 16:14:25.266098: I tensorflow/core/common_runtime/gpu/gpu_device.cc:1276] 0:   N Y \n",
      "2021-01-28 16:14:25.266105: I tensorflow/core/common_runtime/gpu/gpu_device.cc:1276] 1:   Y N \n",
      "2021-01-28 16:14:25.271942: I tensorflow/core/common_runtime/gpu/gpu_device.cc:1402] Created TensorFlow device (/job:localhost/replica:0/task:0/device:GPU:0 with 14139 MB memory) -> physical GPU (device: 0, name: Quadro RTX 5000, pci bus id: 0000:44:00.0, compute capability: 7.5)\n",
      "2021-01-28 16:14:25.274115: I tensorflow/core/common_runtime/gpu/gpu_device.cc:1402] Created TensorFlow device (/job:localhost/replica:0/task:0/device:GPU:1 with 13894 MB memory) -> physical GPU (device: 1, name: Quadro RTX 5000, pci bus id: 0000:61:00.0, compute capability: 7.5)\n",
      "  0%|                                                | 0/103701 [00:00<?, ?it/s]Starting to extract DELF features from images...\n",
      "2021-01-28 16:14:35.704939: I tensorflow/stream_executor/platform/default/dso_loader.cc:48] Successfully opened dynamic library libcudnn.so.7\n",
      "2021-01-28 16:14:37.424745: I tensorflow/stream_executor/platform/default/dso_loader.cc:48] Successfully opened dynamic library libcublas.so.10\n",
      "  0%|                                     | 99/103701 [00:11<2:14:59, 12.79it/s]Processing image 100 out of 103701, last 100 images took 11.878393650054932 seconds\n",
      "  0%|                                    | 199/103701 [00:19<2:15:02, 12.77it/s]Processing image 200 out of 103701, last 100 images took 7.740991830825806 seconds\n",
      "  0%|                                    | 297/103701 [00:27<2:15:48, 12.69it/s]^C\n",
      "  0%|                                    | 299/103701 [00:27<2:38:57, 10.84it/s]\n",
      "Traceback (most recent call last):\n",
      "  File \"../github_upload/extract_features.py\", line 161, in <module>\n",
      "    app.run(main=main, argv=[sys.argv[0]] + unparsed)\n",
      "  File \"/home/smart02/anaconda3/lib/python3.6/site-packages/tensorflow/python/platform/app.py\", line 40, in run\n",
      "    _run(main=main, argv=argv, flags_parser=_parse_flags_tolerate_undef)\n",
      "  File \"/home/smart02/anaconda3/lib/python3.6/site-packages/absl/app.py\", line 303, in run\n",
      "    _run_main(main, args)\n",
      "  File \"/home/smart02/anaconda3/lib/python3.6/site-packages/absl/app.py\", line 251, in _run_main\n",
      "    sys.exit(main(argv))\n",
      "  File \"../github_upload/extract_features.py\", line 119, in main\n",
      "    extracted_features = extractor_fn(im)\n",
      "  File \"/home/smart02/DELF_TEST/models/research/delf/delf/python/examples/extractor.py\", line 206, in ExtractorFn\n",
      "    input_abs_thres=score_threshold_tensor)\n",
      "  File \"/home/smart02/anaconda3/lib/python3.6/site-packages/tensorflow/python/eager/function.py\", line 1655, in __call__\n",
      "    return self._call_impl(args, kwargs)\n",
      "  File \"/home/smart02/anaconda3/lib/python3.6/site-packages/tensorflow/python/eager/function.py\", line 1673, in _call_impl\n",
      "    return self._call_with_flat_signature(args, kwargs, cancellation_manager)\n",
      "  File \"/home/smart02/anaconda3/lib/python3.6/site-packages/tensorflow/python/eager/function.py\", line 1722, in _call_with_flat_signature\n",
      "    return self._call_flat(args, self.captured_inputs, cancellation_manager)\n",
      "  File \"/home/smart02/anaconda3/lib/python3.6/site-packages/tensorflow/python/saved_model/load.py\", line 106, in _call_flat\n",
      "    cancellation_manager)\n",
      "  File \"/home/smart02/anaconda3/lib/python3.6/site-packages/tensorflow/python/eager/function.py\", line 1924, in _call_flat\n",
      "    ctx, args, cancellation_manager=cancellation_manager))\n",
      "  File \"/home/smart02/anaconda3/lib/python3.6/site-packages/tensorflow/python/eager/function.py\", line 550, in call\n",
      "    ctx=ctx)\n",
      "  File \"/home/smart02/anaconda3/lib/python3.6/site-packages/tensorflow/python/eager/execute.py\", line 60, in quick_execute\n",
      "    inputs, attrs, num_outputs)\n",
      "KeyboardInterrupt\n"
     ]
    }
   ],
   "source": [
    "#query\n",
    "!python3 ../github_upload/extract_features.py \\\n",
    "  --image_folder_location /home/smart02/Yonsei_Dataset/query/ \\\n",
    "  --list_images_path ./test_extract_F.txt \\\n",
    "  --output_dir ./test_query_features"
   ]
  },
  {
   "cell_type": "markdown",
   "metadata": {},
   "source": [
    "# make_pickle"
   ]
  },
  {
   "cell_type": "code",
   "execution_count": 3,
   "metadata": {},
   "outputs": [
    {
     "name": "stdout",
     "output_type": "stream",
     "text": [
      "2021-01-28 16:15:27.504595: I tensorflow/stream_executor/platform/default/dso_loader.cc:48] Successfully opened dynamic library libcudart.so.10.1\n",
      "make path of images...\n",
      "finish making path of features!103701\n",
      "start making pickle of images...\n",
      " 13%|████▍                             | 13427/103701 [00:04<00:27, 3273.93it/s]^C\n",
      " 13%|████▍                             | 13527/103701 [00:04<00:27, 3249.70it/s]\n",
      "Traceback (most recent call last):\n",
      "  File \"../github_upload/make_pickle.py\", line 101, in <module>\n",
      "    app.run(main=main, argv=[sys.argv[0]] + unparsed)\n",
      "  File \"/home/smart02/anaconda3/lib/python3.6/site-packages/tensorflow/python/platform/app.py\", line 40, in run\n",
      "    _run(main=main, argv=argv, flags_parser=_parse_flags_tolerate_undef)\n",
      "  File \"/home/smart02/anaconda3/lib/python3.6/site-packages/absl/app.py\", line 303, in run\n",
      "    _run_main(main, args)\n",
      "  File \"/home/smart02/anaconda3/lib/python3.6/site-packages/absl/app.py\", line 251, in _run_main\n",
      "    sys.exit(main(argv))\n",
      "  File \"../github_upload/make_pickle.py\", line 57, in main\n",
      "    descriptor =np.load(paths_[j])\n",
      "  File \"/home/smart02/anaconda3/lib/python3.6/site-packages/numpy/lib/npyio.py\", line 453, in load\n",
      "    pickle_kwargs=pickle_kwargs)\n",
      "  File \"/home/smart02/anaconda3/lib/python3.6/site-packages/numpy/lib/format.py\", line 727, in read_array\n",
      "    version = read_magic(fp)\n",
      "  File \"/home/smart02/anaconda3/lib/python3.6/site-packages/numpy/lib/format.py\", line 235, in read_magic\n",
      "    magic_str = _read_bytes(fp, MAGIC_LEN, \"magic string\")\n",
      "  File \"/home/smart02/anaconda3/lib/python3.6/site-packages/numpy/lib/format.py\", line 906, in _read_bytes\n",
      "    r = fp.read(size - len(data))\n",
      "KeyboardInterrupt\n"
     ]
    }
   ],
   "source": [
    "!python3 ../github_upload/make_pickle.py \\\n",
    "  --pickle_path /home/smart02/Yonsei_Dataset/Yonsei_Dataset_for_Feature/ \\\n",
    "  --name query \\\n",
    "  --query_features_path /home/smart02/LM/research/delf/delf/python/training/list_features_anes/final_query_features_0126/ \\\n",
    "  --index_features_path /home/smart02/LM/research/delf/delf/python/training/list_features_anes/final_index_features_0126_1/ \\\n",
    "  --output_dir ./new_test.txt "
   ]
  },
  {
   "cell_type": "code",
   "execution_count": null,
   "metadata": {},
   "outputs": [],
   "source": []
  }
 ],
 "metadata": {
  "kernelspec": {
   "display_name": "python(new_t)",
   "language": "python",
   "name": "new_t"
  },
  "language_info": {
   "codemirror_mode": {
    "name": "ipython",
    "version": 3
   },
   "file_extension": ".py",
   "mimetype": "text/x-python",
   "name": "python",
   "nbconvert_exporter": "python",
   "pygments_lexer": "ipython3",
   "version": "3.6.10"
  }
 },
 "nbformat": 4,
 "nbformat_minor": 4
}
